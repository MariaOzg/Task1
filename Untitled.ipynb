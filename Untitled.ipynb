{
 "cells": [
  {
   "cell_type": "code",
   "execution_count": null,
   "metadata": {},
   "outputs": [],
   "source": [
    "phrase_1 = \"Насколько проще было бы писать программы, если бы не заказчики\"\n",
    "phrase_2 = \"640Кб должно хватить для любых задач. Билл Гейтс (по легенде)\"\n",
    "if len(\"phrase_1\") > len(\"phrase_2\"):\n",
    "    print (\"Фраза 1 длиннее фразы 2\")\n",
    "   "
   ]
  },
  {
   "cell_type": "code",
   "execution_count": null,
   "metadata": {},
   "outputs": [],
   "source": [
    "phrase_1 = \"640Кб должно хватить для любых задач. Билл Гейтс (по легенде)\"\n",
    "phrase_2 = \"Насколько проще было бы писать программы, если бы не заказчики\"\n",
    "if len(\"phrase_1\") > len(\"phrase_2\"):\n",
    "    print (\"Фраза 1 длиннее фразы 2\")\n",
    "else: \n",
    "    print (\"Фраза 2 длиннее фразы 1\")"
   ]
  },
  {
   "cell_type": "code",
   "execution_count": 1,
   "metadata": {},
   "outputs": [
    {
     "name": "stdout",
     "output_type": "stream",
     "text": [
      "Фразы равной длины\n"
     ]
    }
   ],
   "source": [
    "phrase_1 = \"Насколько проще было бы писать программы, если бы не заказчики\"\n",
    "phrase_2 = \"Насколько проще было бы писать программы, если бы не заказчики\"\n",
    "if len(\"phrase_1\") > len(\"phrase_2\"):\n",
    "    print (\"Фраза 1 длиннее фразы 2\")\n",
    "elif len(\"phrase_1\") < len(\"phrase_2\"):\n",
    "    print (\"Фраза 2 длиннее фразы 1\")\n",
    "else:\n",
    "    print(\"Фразы равной длины\")"
   ]
  },
  {
   "cell_type": "code",
   "execution_count": 2,
   "metadata": {},
   "outputs": [
    {
     "name": "stdout",
     "output_type": "stream",
     "text": [
      "2019\n",
      "Обычный год\n"
     ]
    }
   ],
   "source": [
    "year = int(input(\"\"))\n",
    "\n",
    "if year % 4 == 0:\n",
    "    print(\"Високосный год\")\n",
    "else:\n",
    "    print(\"Обычный год\")"
   ]
  },
  {
   "cell_type": "code",
   "execution_count": 10,
   "metadata": {},
   "outputs": [
    {
     "name": "stdout",
     "output_type": "stream",
     "text": [
      "Введите день 33\n",
      "Введите месяц Март\n",
      "Ваш знак зодиака: Овен\n"
     ]
    }
   ],
   "source": [
    "a=int(input(\"Введите день \"))\n",
    "b=str(input(\"Введите месяц \"))\n",
    "if a >= 21 and b == \"Март\" or a <= 20 and b == \"Апрель\":\n",
    "    print (\"Ваш знак зодиака: Овен\")\n",
    "elif a >= 21 and b == \"Апрель\" or a <= 21 and b == \"Май\":\n",
    "    print (\"Ваш знак зодиака: Телец\")\n",
    "elif a >= 22 and b == \"Май\" or a <= 21 and b == \"Июнь\":\n",
    "    print (\"Ваш знак зодиака: Близнецы\")\n",
    "elif a >= 22 and b == \"Июнь\" or a <= 22 and b == \"Июль\":\n",
    "    print (\"Ваш знак зодиака: Рак\")\n",
    "elif a >= 23 and b == \"Июль\" or a <= 23 and b == \"Август\":\n",
    "    print (\"Ваш знак зодиака: Лев\")\n",
    "elif a >= 24 and b == \"Август\" or a <= 23 and b == \"Сентябрь\":\n",
    "    print (\"Ваш знак зодиака: Дева\")\n",
    "elif a >= 24 and b == \"Сентябрь\" or a <= 23 and b == \"Октябрь\":\n",
    "    print (\"Ваш знак зодиака: Весы\")\n",
    "elif a >= 24 and b == \"Октябрь\" or a <= 22 and b == \"Ноябрь\":\n",
    "    print (\"Ваш знак зодиака: Скорпион\")\n",
    "elif a >= 23 and b == \"Ноябрь\" or a <= 21 and b == \"Декабрь\":\n",
    "    print (\"Ваш знак зодиака: Стрелец\")\n",
    "elif a >= 22 and b == \"Декабрь\" or a <= 20 and b == \"Январь\":\n",
    "    print (\"Ваш знак зодиака: Козерог\")\n",
    "elif a >= 21 and b == \"Январь\" or a <= 18 and b == \"Февраль\":\n",
    "    print (\"Ваш знак зодиака: Водолей\")\n",
    "elif a >= 19 and b == \"Февраль\" or a <= 20 and b == \"Март\":\n",
    "    print (\"Ваш знак зодиака: Рыбы\")\n",
    "else:\n",
    "    print(\"Произошла ошибка\")\n"
   ]
  },
  {
   "cell_type": "code",
   "execution_count": 3,
   "metadata": {},
   "outputs": [
    {
     "name": "stdout",
     "output_type": "stream",
     "text": [
      "45\n",
      "205\n",
      "45\n",
      "Коробка для лыж\n"
     ]
    }
   ],
   "source": [
    "w = int(input())\n",
    "l = int(input())\n",
    "h = int(input())\n",
    "\n",
    "if w<15 and l<15 and h<15:\n",
    "    print(\"Коробка №1\")\n",
    "elif 15 < w < 50 and l<200 or 15 < l < 50  or 15 < h < 50 and l<200:\n",
    "    print(\"Коробка №2\")\n",
    "elif l>200:\n",
    "    print(\"Коробка для лыж\")\n",
    "else:\n",
    "    print(\"Стандартная коробка №3\")"
   ]
  },
  {
   "cell_type": "code",
   "execution_count": 1,
   "metadata": {},
   "outputs": [
    {
     "name": "stdout",
     "output_type": "stream",
     "text": [
      "123123\n",
      "счастливый билет\n"
     ]
    }
   ],
   "source": [
    "f = int(input())\n",
    "a = f // 100000\n",
    "b = f % 100000 // 10000\n",
    "c = f % 10000 // 1000\n",
    "d = f % 1000 // 100\n",
    "e = f % 100 // 10\n",
    "g = f % 10 // 1\n",
    "if (a + b + c) == (d + e + g):\n",
    "    print(\"счастливый билет\")\n",
    "else: \n",
    "    print(\"несчастливый билет\")\n",
    "\n"
   ]
  },
  {
   "cell_type": "code",
   "execution_count": 18,
   "metadata": {},
   "outputs": [
    {
     "name": "stdout",
     "output_type": "stream",
     "text": [
      "Введите тип фигурыКруг\n",
      "Введите радиус круга15\n",
      "Площадь круга:  (45, 1415)\n"
     ]
    }
   ],
   "source": [
    "\n",
    "tip = input(\"Введите тип фигуры\")\n",
    "if tip == \"Круг\":\n",
    "    krug = int(input(\"Введите радиус круга\"))\n",
    "    if krug >  0:\n",
    "        print(\"Площадь круга: \", sk)   \n",
    "        sk = (krug ** 2 * 3,1415) "
   ]
  },
  {
   "cell_type": "code",
   "execution_count": null,
   "metadata": {},
   "outputs": [],
   "source": [
    "elif tip == \"Треугольник\":\n",
    "    treu_k_1 = int(input(\"Введите длину стороны A:\"))\n",
    "    treu_k_2 = int(input(\"Введите длину стороны B:\"))\n",
    "    treu_k_3 = int(input(\"Введите длину стороны C:\"))\n",
    "    print(treu_k_1, treu_k_2, treu_k_3)\n",
    "elif tip == \"Прямоугольник\":\n",
    "    pry_k_1 = int(input(\"Введите длину прямоугольника\")) \n",
    "    pry_k_2 = int(input(\"Введите ширину прямоугольника\"))\n",
    "    print(pry_k_1, pry_k_2)\n",
    "st_1 = (treu_k_1 + treu_k_2 + treu_k_3) // 2\n",
    "st = (st_1 * (st_1 - treu_k_1) * (st_1 - treu_k_2) * (st_1 - treu_k_1)) ** (1 // 2)\n",
    "sp = pry_k_1 * pry_k_2"
   ]
  }
 ],
 "metadata": {
  "kernelspec": {
   "display_name": "Python 3",
   "language": "python",
   "name": "python3"
  }
 },
 "nbformat": 4,
 "nbformat_minor": 4
}
