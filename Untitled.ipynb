{
 "cells": [
  {
   "cell_type": "code",
   "execution_count": null,
   "metadata": {},
   "outputs": [],
   "source": [
    "phrase_1 = \"Насколько проще было бы писать программы, если бы не заказчики\"\n",
    "phrase_2 = \"640Кб должно хватить для любых задач. Билл Гейтс (по легенде)\"\n",
    "if len(\"Насколько проще было бы писать программы, если бы не заказчики\") > len(\"640Кб должно хватить для любых задач. Билл Гейтс (по легенде)\"):\n",
    "    print (\"Фраза 1 длиннее фразы 2\")\n",
    "   "
   ]
  },
  {
   "cell_type": "code",
   "execution_count": null,
   "metadata": {},
   "outputs": [],
   "source": [
    "phrase_1 = \"640Кб должно хватить для любых задач. Билл Гейтс (по легенде)\"\n",
    "phrase_2 = \"Насколько проще было бы писать программы, если бы не заказчики\"\n",
    "if len(\"640Кб должно хватить для любых задач. Билл Гейтс (по легенде)\") > len(\"Насколько проще было бы писать программы, если бы не заказчики\"):\n",
    "    print (\"Фраза 1 длиннее фразы 2\")\n",
    "else: \n",
    "    print (\"Фраза 2 длиннее фразы 1\")"
   ]
  },
  {
   "cell_type": "code",
   "execution_count": 1,
   "metadata": {},
   "outputs": [
    {
     "name": "stdout",
     "output_type": "stream",
     "text": [
      "Фразы равной длины\n"
     ]
    }
   ],
   "source": [
    "phrase_1 = \"Насколько проще было бы писать программы, если бы не заказчики\"\n",
    "phrase_2 = \"Насколько проще было бы писать программы, если бы не заказчики\"\n",
    "if len(\"Насколько проще было бы писать программы, если бы не заказчики\") > len(\"Насколько проще было бы писать программы, если бы не заказчики\"):\n",
    "    print (\"Фраза 1 длиннее фразы 2\")\n",
    "elif len(\"Насколько проще было бы писать программы, если бы не заказчики\") < len(\"Насколько проще было бы писать программы, если бы не заказчики\"):\n",
    "    print (\"Фраза 2 длиннее фразы 1\")\n",
    "else:\n",
    "    print(\"Фразы равной длины\")"
   ]
  },
  {
   "cell_type": "code",
   "execution_count": null,
   "metadata": {},
   "outputs": [],
   "source": [
    "year = 2019\n",
    "\n",
    "if year % 2 == 0:\n",
    "    print(\"Високосный год\")"
   ]
  },
  {
   "cell_type": "code",
   "execution_count": null,
   "metadata": {},
   "outputs": [],
   "source": [
    "year = 2018\n",
    "\n",
    "if year % 2 == 0:\n",
    "    print(\"Високосный год\")\n",
    "else:\n",
    "    print(\"Обычный год\")"
   ]
  },
  {
   "cell_type": "code",
   "execution_count": 10,
   "metadata": {},
   "outputs": [
    {
     "name": "stdout",
     "output_type": "stream",
     "text": [
      "Введите день 33\n",
      "Введите месяц Март\n",
      "Ваш знак зодиака: Овен\n"
     ]
    }
   ],
   "source": [
    "a=int(input(\"Введите день \"))\n",
    "b=str(input(\"Введите месяц \"))\n",
    "if a >= 21 and b == \"Март\" or a <= 20 and b == \"Апрель\":\n",
    "    print (\"Ваш знак зодиака: Овен\")\n",
    "elif a >= 21 and b == \"Апрель\" or a <= 21 and b == \"Май\":\n",
    "    print (\"Ваш знак зодиака: Телец\")\n",
    "elif a >= 22 and b == \"Май\" or a <= 21 and b == \"Июнь\":\n",
    "    print (\"Ваш знак зодиака: Близнецы\")\n",
    "elif a >= 22 and b == \"Июнь\" or a <= 22 and b == \"Июль\":\n",
    "    print (\"Ваш знак зодиака: Рак\")\n",
    "elif a >= 23 and b == \"Июль\" or a <= 23 and b == \"Август\":\n",
    "    print (\"Ваш знак зодиака: Лев\")\n",
    "elif a >= 24 and b == \"Август\" or a <= 23 and b == \"Сентябрь\":\n",
    "    print (\"Ваш знак зодиака: Дева\")\n",
    "elif a >= 24 and b == \"Сентябрь\" or a <= 23 and b == \"Октябрь\":\n",
    "    print (\"Ваш знак зодиака: Весы\")\n",
    "elif a >= 24 and b == \"Октябрь\" or a <= 22 and b == \"Ноябрь\":\n",
    "    print (\"Ваш знак зодиака: Скорпион\")\n",
    "elif a >= 23 and b == \"Ноябрь\" or a <= 21 and b == \"Декабрь\":\n",
    "    print (\"Ваш знак зодиака: Стрелец\")\n",
    "elif a >= 22 and b == \"Декабрь\" or a <= 20 and b == \"Январь\":\n",
    "    print (\"Ваш знак зодиака: Козерог\")\n",
    "elif a >= 21 and b == \"Январь\" or a <= 18 and b == \"Февраль\":\n",
    "    print (\"Ваш знак зодиака: Водолей\")\n",
    "elif a >= 19 and b == \"Февраль\" or a <= 20 and b == \"Март\":\n",
    "    print (\"Ваш знак зодиака: Рыбы\")\n",
    "else:\n",
    "    print(\"Произошла ошибка\")\n"
   ]
  },
  {
   "cell_type": "code",
   "execution_count": 2,
   "metadata": {},
   "outputs": [
    {
     "name": "stdout",
     "output_type": "stream",
     "text": [
      "Коробка №2\n"
     ]
    }
   ],
   "source": [
    "w = 10\n",
    "l = 205\n",
    "h = 5\n",
    "if w<15 and l<15 and h<15:\n",
    "    print(\"Коробка №1\")\n",
    "elif w>15 and l<15 and h<15 and w>50 or w<15 and l>15 and h<15 and l>50 or w<15 and l<15 and h>15 and h>50:\n",
    "    print(\"Коробка №2\")\n",
    "elif l>200 and w<15:\n",
    "    print(\"Коробка для лыж\")\n",
    "else:\n",
    "    print(\"Стандартная коробка №3\")"
   ]
  },
  {
   "cell_type": "code",
   "execution_count": 17,
   "metadata": {},
   "outputs": [
    {
     "ename": "TypeError",
     "evalue": "'int' object is not callable",
     "output_type": "error",
     "traceback": [
      "\u001b[1;31m---------------------------------------------------------------------------\u001b[0m",
      "\u001b[1;31mTypeError\u001b[0m                                 Traceback (most recent call last)",
      "\u001b[1;32m<ipython-input-17-c71ba868b3c4>\u001b[0m in \u001b[0;36m<module>\u001b[1;34m\u001b[0m\n\u001b[0;32m      1\u001b[0m \u001b[0mf\u001b[0m \u001b[1;33m=\u001b[0m \u001b[1;33m(\u001b[0m\u001b[1;36m123456\u001b[0m\u001b[1;33m)\u001b[0m\u001b[1;33m\u001b[0m\u001b[1;33m\u001b[0m\u001b[0m\n\u001b[1;32m----> 2\u001b[1;33m \u001b[1;32mif\u001b[0m \u001b[0mf\u001b[0m\u001b[1;33m(\u001b[0m\u001b[1;36m0\u001b[0m\u001b[1;33m)\u001b[0m \u001b[1;33m+\u001b[0m \u001b[0mf\u001b[0m\u001b[1;33m(\u001b[0m\u001b[1;36m1\u001b[0m\u001b[1;33m)\u001b[0m \u001b[1;33m+\u001b[0m \u001b[0mf\u001b[0m\u001b[1;33m(\u001b[0m\u001b[1;36m2\u001b[0m\u001b[1;33m)\u001b[0m \u001b[1;33m==\u001b[0m \u001b[0mf\u001b[0m\u001b[1;33m(\u001b[0m\u001b[1;36m3\u001b[0m\u001b[1;33m)\u001b[0m \u001b[1;33m+\u001b[0m \u001b[0mf\u001b[0m\u001b[1;33m(\u001b[0m\u001b[1;36m4\u001b[0m\u001b[1;33m)\u001b[0m \u001b[1;33m+\u001b[0m \u001b[0mf\u001b[0m\u001b[1;33m(\u001b[0m\u001b[1;36m5\u001b[0m\u001b[1;33m)\u001b[0m\u001b[1;33m:\u001b[0m\u001b[1;33m\u001b[0m\u001b[1;33m\u001b[0m\u001b[0m\n\u001b[0m\u001b[0;32m      3\u001b[0m         \u001b[0mprint\u001b[0m\u001b[1;33m(\u001b[0m\u001b[1;34m\"Счастливый билет\"\u001b[0m\u001b[1;33m)\u001b[0m\u001b[1;33m\u001b[0m\u001b[1;33m\u001b[0m\u001b[0m\n\u001b[0;32m      4\u001b[0m \u001b[1;32melse\u001b[0m\u001b[1;33m:\u001b[0m\u001b[1;33m\u001b[0m\u001b[1;33m\u001b[0m\u001b[0m\n\u001b[0;32m      5\u001b[0m     \u001b[0mprint\u001b[0m\u001b[1;33m(\u001b[0m\u001b[1;34m\"Несчастивый билет\"\u001b[0m\u001b[1;33m)\u001b[0m\u001b[1;33m\u001b[0m\u001b[1;33m\u001b[0m\u001b[0m\n",
      "\u001b[1;31mTypeError\u001b[0m: 'int' object is not callable"
     ]
    }
   ],
   "source": [
    "f = (123456)\n",
    "if f(0) + f(1) + f(2) == f(3) + f(4) + f(5):\n",
    "        print(\"Счастливый билет\")\n",
    "else:\n",
    "    print(\"Несчастивый билет\")\n",
    "\n"
   ]
  },
  {
   "cell_type": "code",
   "execution_count": null,
   "metadata": {},
   "outputs": [],
   "source": []
  },
  {
   "cell_type": "code",
   "execution_count": null,
   "metadata": {},
   "outputs": [],
   "source": []
  }
 ],
 "metadata": {
  "kernelspec": {
   "display_name": "Python 3",
   "language": "python",
   "name": "python3"
  },
  "language_info": {
   "codemirror_mode": {
    "name": "ipython",
    "version": 3
   },
   "file_extension": ".py",
   "mimetype": "text/x-python",
   "name": "python",
   "nbconvert_exporter": "python",
   "pygments_lexer": "ipython3",
   "version": "3.7.6"
  }
 },
 "nbformat": 4,
 "nbformat_minor": 4
}
