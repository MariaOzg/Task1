{
 "cells": [
  {
   "cell_type": "code",
   "execution_count": null,
   "metadata": {},
   "outputs": [],
   "source": [
    "Word = input(\"Введите переменную латинскими буквами \")\n",
    "\n",
    "\n",
    "i = 0\n",
    "j = len(Word) \n",
    "    \n",
    "m = (i + j) // 2\n",
    "a = (i + j) // 2 - 1\n",
    "        \n",
    "if len(Word) % 2 == 0:\n",
    "    print(Word[a], Word[m])\n",
    "            \n",
    "elif len(Word) % 2 == 1:\n",
    "    print(Word[m])\n",
    "\n",
    "else:\n",
    "    print(\"Ошибка\")\n",
    "   "
   ]
  },
  {
   "cell_type": "code",
   "execution_count": null,
   "metadata": {},
   "outputs": [],
   "source": [
    "a = int(input(\"Введите число: \"))\n",
    "sum = 0\n",
    "\n",
    "while a != 0:\n",
    "    sum += a\n",
    "    a = int(input(\"Введите число: \"))\n",
    "    \n",
    "print(sum)\n"
   ]
  },
  {
   "cell_type": "code",
   "execution_count": null,
   "metadata": {},
   "outputs": [],
   "source": [
    "boys = ['Peter', 'Alex', 'John', 'Arthur', 'Richard']\n",
    "girls = ['Kate', 'Liza', 'Kira', 'Emma', 'Trisha']\n",
    "\n",
    "if len(boys) == len(girls):\n",
    "    print(\"Идеальные пары:\")\n",
    "    for boy, girl in zip(sorted(boys), sorted(girls)):\n",
    "        print(f'{boy} и {girl}')\n",
    "    print()\n",
    "elif len(boys) != len(girls):\n",
    "    print(\"Внимание, кто-то может остаться без пары!\")\n",
    "\n",
    "\n",
    "\n"
   ]
  },
  {
   "cell_type": "code",
   "execution_count": null,
   "metadata": {},
   "outputs": [],
   "source": [
    "boys = ['Peter', 'Alex', 'John', 'Arthur', 'Richard', 'Michael']\n",
    "girls = ['Kate', 'Liza', 'Kira', 'Emma', 'Trisha']\n",
    "if len(boys) == len(girls):\n",
    "    print(\"Идеальные пары:\")\n",
    "    for boy, girl in zip(sorted(boys), sorted(girls)):\n",
    "        print(f'{boy} и {girl}')\n",
    "    print()\n",
    "elif len(boys) != len(girls):\n",
    "    print(\"Внимание, кто-то может остаться без пары!\")\n"
   ]
  },
  {
   "cell_type": "code",
   "execution_count": 18,
   "metadata": {},
   "outputs": [
    {
     "name": "stdout",
     "output_type": "stream",
     "text": [
      "Thailand - 23.86 C\n",
      "Germany - 13.8 C\n",
      "Russia - 3.71 C\n",
      "Poland - 12.0 C\n"
     ]
    }
   ],
   "source": [
    "countries_temperature = [\n",
    "    ['Thailand', [75.2, 77, 78.8, 73.4, 68, 75.2, 77]],\n",
    "    ['Germany', [57.2, 55.4, 59, 59, 53.6]],\n",
    "    ['Russia', [35.6, 37.4, 39.2, 41, 42.8, 39.2, 35.6]],\n",
    "    ['Poland', [50, 50, 53.6, 57.2, 55.4, 55.4]]\n",
    "]\n",
    "for average in countries_temperature:\n",
    "    print(average[0], \"-\", round(((sum(average[1])) / (len(average[1])) - 32) / 1.8, 2), \"C\")"
   ]
  },
  {
   "cell_type": "code",
   "execution_count": 17,
   "metadata": {},
   "outputs": [
    {
     "name": "stdout",
     "output_type": "stream",
     "text": [
      "['user1']\n",
      "['user1']\n",
      "['user1']\n",
      "['user1']\n",
      "['user1', 'user2']\n",
      "['user1', 'user2', 'user3']\n",
      "['user1', 'user2', 'user3']\n",
      "['user1', 'user2', 'user3', 'user4']\n",
      "['user1', 'user2', 'user3', 'user4']\n",
      "['user1', 'user2', 'user3', 'user4']\n",
      "['user1', 'user2', 'user3', 'user4']\n",
      "['user1', 'user2', 'user3', 'user4']\n"
     ]
    }
   ],
   "source": [
    "streams = [\n",
    "    '2018-01-01,user1,3',\n",
    "    '2018-01-07,user1,4',\n",
    "    '2018-03-29,user1,1',\n",
    "    '2018-04-04,user1,13',\n",
    "    '2018-01-05,user2,7',\n",
    "    '2018-06-14,user3,4',\n",
    "    '2018-07-02,user3,10',\n",
    "    '2018-03-21,user4,19',\n",
    "    '2018-03-22,user4,4',\n",
    "    '2018-04-22,user4,8',\n",
    "    '2018-05-03,user4,9',\n",
    "    '2018-05-11,user4,11',\n",
    "]\n",
    "\n",
    "\n",
    "users_list = []\n",
    "views_list = []\n",
    "\n",
    "for stream in streams:\n",
    "    splitted_stream = stream.split(',')\n",
    "    user = splitted_stream[1]\n",
    "    views = splitted_stream[2]\n",
    "    if user not in users_list:\n",
    "        users_list.append(user)\n",
    "    print(users_list)\n",
    "#     print(\"Среднее количество просмотров на уникального пользователя:\", (sum(views) / len(users_list)))\n",
    "#     print((views_list)    \n",
    "# #for u, v in zip(users_list, views_list):\n",
    "#     #print(sum(v))\n",
    " \n"
   ]
  },
  {
   "cell_type": "code",
   "execution_count": null,
   "metadata": {},
   "outputs": [],
   "source": [
    "my_list = list(input())\n",
    "res = []\n",
    "for number in my_list:\n",
    "    if my_list.count(number) > 1  and number not in res:\n",
    "        res.append(number)\n",
    "print(res)\n"
   ]
  },
  {
   "cell_type": "code",
   "execution_count": null,
   "metadata": {},
   "outputs": [],
   "source": []
  }
 ],
 "metadata": {
  "kernelspec": {
   "display_name": "Python 3",
   "language": "python",
   "name": "python3"
  },
  "language_info": {
   "codemirror_mode": {
    "name": "ipython",
    "version": 3
   },
   "file_extension": ".py",
   "mimetype": "text/x-python",
   "name": "python",
   "nbconvert_exporter": "python",
   "pygments_lexer": "ipython3",
   "version": "3.7.6"
  }
 },
 "nbformat": 4,
 "nbformat_minor": 4
}
